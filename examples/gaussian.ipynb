{
 "cells": [
  {
   "cell_type": "code",
   "execution_count": 3,
   "metadata": {},
   "outputs": [
    {
     "ename": "ModuleNotFoundError",
     "evalue": "No module named 'avalanchepy'",
     "output_type": "error",
     "traceback": [
      "\u001b[0;31m---------------------------------------------------------------------------\u001b[0m",
      "\u001b[0;31mModuleNotFoundError\u001b[0m                       Traceback (most recent call last)",
      "Cell \u001b[0;32mIn[3], line 2\u001b[0m\n\u001b[1;32m      1\u001b[0m \u001b[38;5;28;01mimport\u001b[39;00m \u001b[38;5;21;01mnumpy\u001b[39;00m \u001b[38;5;28;01mas\u001b[39;00m \u001b[38;5;21;01mnp\u001b[39;00m\n\u001b[0;32m----> 2\u001b[0m \u001b[38;5;28;01mimport\u001b[39;00m \u001b[38;5;21;01mavalanchepy\u001b[39;00m\n\u001b[1;32m      4\u001b[0m \u001b[38;5;66;03m# Define a simple gaussian likelihood function\u001b[39;00m\n\u001b[1;32m      5\u001b[0m \u001b[38;5;28;01mdef\u001b[39;00m \u001b[38;5;21mloglike\u001b[39m(theta):\n",
      "\u001b[0;31mModuleNotFoundError\u001b[0m: No module named 'avalanchepy'"
     ]
    }
   ],
   "source": [
    "import numpy as np\n",
    "import avalanchepy\n",
    "\n",
    "# Define a simple gaussian likelihood function\n",
    "def loglike(theta):\n",
    "    return -0.5 * np.sum(theta**2)\n",
    "\n",
    "# Run pyavlanche\n",
    "result = avalanchepy.run(loglike, mu=3, n_total_steps=30000)\n",
    "result.print_summary()"
   ]
  },
  {
   "cell_type": "code",
   "execution_count": 3,
   "metadata": {},
   "outputs": [
    {
     "name": "stdout",
     "output_type": "stream",
     "text": [
      "p(y) = 6.283185307179586\n"
     ]
    }
   ],
   "source": [
    "# theoretical expectation\n",
    "print(\"p(y) = \" + str(2 * np.pi))"
   ]
  }
 ],
 "metadata": {
  "kernelspec": {
   "display_name": "partition-macro-ZoebzHox-py3.11",
   "language": "python",
   "name": "python3"
  },
  "language_info": {
   "codemirror_mode": {
    "name": "ipython",
    "version": 3
   },
   "file_extension": ".py",
   "mimetype": "text/x-python",
   "name": "python",
   "nbconvert_exporter": "python",
   "pygments_lexer": "ipython3",
   "version": "3.12.4"
  }
 },
 "nbformat": 4,
 "nbformat_minor": 2
}
