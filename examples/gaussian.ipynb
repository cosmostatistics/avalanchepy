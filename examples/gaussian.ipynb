{
 "cells": [
  {
   "cell_type": "code",
   "execution_count": 1,
   "metadata": {},
   "outputs": [
    {
     "name": "stderr",
     "output_type": "stream",
     "text": [
      "/home/maxi/.cache/pypoetry/virtualenvs/avalanchepy-3B7U9E1I-py3.12/lib/python3.12/site-packages/tqdm/auto.py:21: TqdmWarning: IProgress not found. Please update jupyter and ipywidgets. See https://ipywidgets.readthedocs.io/en/stable/user_install.html\n",
      "  from .autonotebook import tqdm as notebook_tqdm\n",
      "N = 122.21; samples = -0.03: 100%|██████████| 30000/30000 [00:23<00:00, 1253.08it/s]"
     ]
    },
    {
     "name": "stdout",
     "output_type": "stream",
     "text": [
      "mode: proximity_spawn\n",
      "n_dim: 2\n",
      "n_samples: 2700\n",
      "<N>: 130.60222222222222\n",
      "Var(N): 15.654984038404725\n",
      "log_evidence: 1.8721562321816592\n",
      "log_evidence_err: 0.20421040907633906\n",
      "evidence: 6.502301766772735\n",
      "evidence_err: 1.3278377037304625\n",
      "\n"
     ]
    },
    {
     "name": "stderr",
     "output_type": "stream",
     "text": [
      "\n"
     ]
    }
   ],
   "source": [
    "import numpy as np\n",
    "import avalanchepy\n",
    "\n",
    "# Define a simple gaussian likelihood function\n",
    "def loglike(theta):\n",
    "    return -0.5 * np.sum(theta**2)\n",
    "\n",
    "# Run pyavlanche\n",
    "result = avalanchepy.run(loglike, mu=3, n_total_steps=30000)\n",
    "result.print_summary()"
   ]
  },
  {
   "cell_type": "code",
   "execution_count": 2,
   "metadata": {},
   "outputs": [
    {
     "name": "stdout",
     "output_type": "stream",
     "text": [
      "p(y) = 6.283185307179586\n"
     ]
    }
   ],
   "source": [
    "# theoretical expectation\n",
    "print(\"p(y) = \" + str(2 * np.pi))"
   ]
  }
 ],
 "metadata": {
  "kernelspec": {
   "display_name": "partition-macro-ZoebzHox-py3.11",
   "language": "python",
   "name": "python3"
  },
  "language_info": {
   "codemirror_mode": {
    "name": "ipython",
    "version": 3
   },
   "file_extension": ".py",
   "mimetype": "text/x-python",
   "name": "python",
   "nbconvert_exporter": "python",
   "pygments_lexer": "ipython3",
   "version": "3.12.4"
  }
 },
 "nbformat": 4,
 "nbformat_minor": 2
}
